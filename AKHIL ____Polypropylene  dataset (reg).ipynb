{
 "cells": [
  {
   "cell_type": "markdown",
   "metadata": {},
   "source": [
    "# Real Time Prediction Of Polymer Quality"
   ]
  },
  {
   "cell_type": "code",
   "execution_count": 2,
   "metadata": {},
   "outputs": [],
   "source": [
    "#Importing libraries\n",
    "import numpy as np\n",
    "import pandas as pd\n",
    "import matplotlib.pyplot as plt\n",
    "import seaborn as sns\n",
    "%matplotlib inline"
   ]
  },
  {
   "cell_type": "code",
   "execution_count": 3,
   "metadata": {},
   "outputs": [],
   "source": [
    "#Importing The dataSet\n",
    "df = pd.read_csv(r'D:\\Data_MFR_310 (1).csv')"
   ]
  },
  {
   "cell_type": "code",
   "execution_count": 4,
   "metadata": {},
   "outputs": [
    {
     "data": {
      "text/html": [
       "<div>\n",
       "<style scoped>\n",
       "    .dataframe tbody tr th:only-of-type {\n",
       "        vertical-align: middle;\n",
       "    }\n",
       "\n",
       "    .dataframe tbody tr th {\n",
       "        vertical-align: top;\n",
       "    }\n",
       "\n",
       "    .dataframe thead th {\n",
       "        text-align: right;\n",
       "    }\n",
       "</style>\n",
       "<table border=\"1\" class=\"dataframe\">\n",
       "  <thead>\n",
       "    <tr style=\"text-align: right;\">\n",
       "      <th></th>\n",
       "      <th>Unnamed: 0</th>\n",
       "      <th>513FC31103.pv</th>\n",
       "      <th>513HC31114-5.mv</th>\n",
       "      <th>513PC31201.pv</th>\n",
       "      <th>513LC31202.pv</th>\n",
       "      <th>513FC31409.pv</th>\n",
       "      <th>513FC31114-5.pv</th>\n",
       "      <th>513TC31220.pv</th>\n",
       "      <th>MFR</th>\n",
       "    </tr>\n",
       "  </thead>\n",
       "  <tbody>\n",
       "    <tr>\n",
       "      <th>0</th>\n",
       "      <td>04-05-2018 19:45</td>\n",
       "      <td>24856.584</td>\n",
       "      <td>0.153</td>\n",
       "      <td>30.414835</td>\n",
       "      <td>79.657906</td>\n",
       "      <td>50850.578</td>\n",
       "      <td>0.163994</td>\n",
       "      <td>80.399605</td>\n",
       "      <td>3.4</td>\n",
       "    </tr>\n",
       "    <tr>\n",
       "      <th>1</th>\n",
       "      <td>04-05-2018 21:45</td>\n",
       "      <td>25537.250</td>\n",
       "      <td>0.153</td>\n",
       "      <td>30.527121</td>\n",
       "      <td>78.532608</td>\n",
       "      <td>42229.813</td>\n",
       "      <td>0.129739</td>\n",
       "      <td>78.861328</td>\n",
       "      <td>3.2</td>\n",
       "    </tr>\n",
       "    <tr>\n",
       "      <th>2</th>\n",
       "      <td>04-05-2018 23:45</td>\n",
       "      <td>25689.266</td>\n",
       "      <td>0.153</td>\n",
       "      <td>30.356180</td>\n",
       "      <td>78.842636</td>\n",
       "      <td>45335.852</td>\n",
       "      <td>0.150003</td>\n",
       "      <td>78.818115</td>\n",
       "      <td>3.2</td>\n",
       "    </tr>\n",
       "    <tr>\n",
       "      <th>3</th>\n",
       "      <td>04-06-2018 01:45</td>\n",
       "      <td>25098.754</td>\n",
       "      <td>0.153</td>\n",
       "      <td>30.894308</td>\n",
       "      <td>79.173500</td>\n",
       "      <td>43077.016</td>\n",
       "      <td>0.151543</td>\n",
       "      <td>79.022720</td>\n",
       "      <td>3.1</td>\n",
       "    </tr>\n",
       "    <tr>\n",
       "      <th>4</th>\n",
       "      <td>04-06-2018 03:45</td>\n",
       "      <td>24853.941</td>\n",
       "      <td>0.150</td>\n",
       "      <td>30.680647</td>\n",
       "      <td>78.677299</td>\n",
       "      <td>40404.387</td>\n",
       "      <td>0.122582</td>\n",
       "      <td>79.038483</td>\n",
       "      <td>3.3</td>\n",
       "    </tr>\n",
       "  </tbody>\n",
       "</table>\n",
       "</div>"
      ],
      "text/plain": [
       "         Unnamed: 0  513FC31103.pv  513HC31114-5.mv  513PC31201.pv  \\\n",
       "0  04-05-2018 19:45      24856.584            0.153      30.414835   \n",
       "1  04-05-2018 21:45      25537.250            0.153      30.527121   \n",
       "2  04-05-2018 23:45      25689.266            0.153      30.356180   \n",
       "3  04-06-2018 01:45      25098.754            0.153      30.894308   \n",
       "4  04-06-2018 03:45      24853.941            0.150      30.680647   \n",
       "\n",
       "   513LC31202.pv  513FC31409.pv  513FC31114-5.pv  513TC31220.pv  MFR  \n",
       "0      79.657906      50850.578         0.163994      80.399605  3.4  \n",
       "1      78.532608      42229.813         0.129739      78.861328  3.2  \n",
       "2      78.842636      45335.852         0.150003      78.818115  3.2  \n",
       "3      79.173500      43077.016         0.151543      79.022720  3.1  \n",
       "4      78.677299      40404.387         0.122582      79.038483  3.3  "
      ]
     },
     "execution_count": 4,
     "metadata": {},
     "output_type": "execute_result"
    }
   ],
   "source": [
    "df.head()"
   ]
  },
  {
   "cell_type": "code",
   "execution_count": 5,
   "metadata": {},
   "outputs": [],
   "source": [
    "#Changing The Column Name For our sake of simplicity \n",
    "\n",
    "df.columns = ['TimeStamp','Propylene flow','Hydrogen ratio','Pressure controller','Level controller','Liquefied Recycle gas to R-310 dome top','Hydrogen Flow','Temperature controller','MFR']"
   ]
  },
  {
   "cell_type": "code",
   "execution_count": 6,
   "metadata": {},
   "outputs": [
    {
     "data": {
      "text/html": [
       "<div>\n",
       "<style scoped>\n",
       "    .dataframe tbody tr th:only-of-type {\n",
       "        vertical-align: middle;\n",
       "    }\n",
       "\n",
       "    .dataframe tbody tr th {\n",
       "        vertical-align: top;\n",
       "    }\n",
       "\n",
       "    .dataframe thead th {\n",
       "        text-align: right;\n",
       "    }\n",
       "</style>\n",
       "<table border=\"1\" class=\"dataframe\">\n",
       "  <thead>\n",
       "    <tr style=\"text-align: right;\">\n",
       "      <th></th>\n",
       "      <th>TimeStamp</th>\n",
       "      <th>Propylene flow</th>\n",
       "      <th>Hydrogen ratio</th>\n",
       "      <th>Pressure controller</th>\n",
       "      <th>Level controller</th>\n",
       "      <th>Liquefied Recycle gas to R-310 dome top</th>\n",
       "      <th>Hydrogen Flow</th>\n",
       "      <th>Temperature controller</th>\n",
       "      <th>MFR</th>\n",
       "    </tr>\n",
       "  </thead>\n",
       "  <tbody>\n",
       "    <tr>\n",
       "      <th>0</th>\n",
       "      <td>04-05-2018 19:45</td>\n",
       "      <td>24856.584</td>\n",
       "      <td>0.153</td>\n",
       "      <td>30.414835</td>\n",
       "      <td>79.657906</td>\n",
       "      <td>50850.578</td>\n",
       "      <td>0.163994</td>\n",
       "      <td>80.399605</td>\n",
       "      <td>3.4</td>\n",
       "    </tr>\n",
       "    <tr>\n",
       "      <th>1</th>\n",
       "      <td>04-05-2018 21:45</td>\n",
       "      <td>25537.250</td>\n",
       "      <td>0.153</td>\n",
       "      <td>30.527121</td>\n",
       "      <td>78.532608</td>\n",
       "      <td>42229.813</td>\n",
       "      <td>0.129739</td>\n",
       "      <td>78.861328</td>\n",
       "      <td>3.2</td>\n",
       "    </tr>\n",
       "    <tr>\n",
       "      <th>2</th>\n",
       "      <td>04-05-2018 23:45</td>\n",
       "      <td>25689.266</td>\n",
       "      <td>0.153</td>\n",
       "      <td>30.356180</td>\n",
       "      <td>78.842636</td>\n",
       "      <td>45335.852</td>\n",
       "      <td>0.150003</td>\n",
       "      <td>78.818115</td>\n",
       "      <td>3.2</td>\n",
       "    </tr>\n",
       "    <tr>\n",
       "      <th>3</th>\n",
       "      <td>04-06-2018 01:45</td>\n",
       "      <td>25098.754</td>\n",
       "      <td>0.153</td>\n",
       "      <td>30.894308</td>\n",
       "      <td>79.173500</td>\n",
       "      <td>43077.016</td>\n",
       "      <td>0.151543</td>\n",
       "      <td>79.022720</td>\n",
       "      <td>3.1</td>\n",
       "    </tr>\n",
       "    <tr>\n",
       "      <th>4</th>\n",
       "      <td>04-06-2018 03:45</td>\n",
       "      <td>24853.941</td>\n",
       "      <td>0.150</td>\n",
       "      <td>30.680647</td>\n",
       "      <td>78.677299</td>\n",
       "      <td>40404.387</td>\n",
       "      <td>0.122582</td>\n",
       "      <td>79.038483</td>\n",
       "      <td>3.3</td>\n",
       "    </tr>\n",
       "  </tbody>\n",
       "</table>\n",
       "</div>"
      ],
      "text/plain": [
       "          TimeStamp  Propylene flow  Hydrogen ratio  Pressure controller  \\\n",
       "0  04-05-2018 19:45       24856.584           0.153            30.414835   \n",
       "1  04-05-2018 21:45       25537.250           0.153            30.527121   \n",
       "2  04-05-2018 23:45       25689.266           0.153            30.356180   \n",
       "3  04-06-2018 01:45       25098.754           0.153            30.894308   \n",
       "4  04-06-2018 03:45       24853.941           0.150            30.680647   \n",
       "\n",
       "   Level controller  Liquefied Recycle gas to R-310 dome top  Hydrogen Flow  \\\n",
       "0         79.657906                                50850.578       0.163994   \n",
       "1         78.532608                                42229.813       0.129739   \n",
       "2         78.842636                                45335.852       0.150003   \n",
       "3         79.173500                                43077.016       0.151543   \n",
       "4         78.677299                                40404.387       0.122582   \n",
       "\n",
       "   Temperature controller  MFR  \n",
       "0               80.399605  3.4  \n",
       "1               78.861328  3.2  \n",
       "2               78.818115  3.2  \n",
       "3               79.022720  3.1  \n",
       "4               79.038483  3.3  "
      ]
     },
     "execution_count": 6,
     "metadata": {},
     "output_type": "execute_result"
    }
   ],
   "source": [
    "df.head()"
   ]
  },
  {
   "cell_type": "code",
   "execution_count": 7,
   "metadata": {},
   "outputs": [],
   "source": [
    "#Dropping TimeStamp\n",
    "\n",
    "df.drop('TimeStamp',axis=1,inplace=True)"
   ]
  },
  {
   "cell_type": "code",
   "execution_count": 8,
   "metadata": {},
   "outputs": [
    {
     "data": {
      "text/html": [
       "<div>\n",
       "<style scoped>\n",
       "    .dataframe tbody tr th:only-of-type {\n",
       "        vertical-align: middle;\n",
       "    }\n",
       "\n",
       "    .dataframe tbody tr th {\n",
       "        vertical-align: top;\n",
       "    }\n",
       "\n",
       "    .dataframe thead th {\n",
       "        text-align: right;\n",
       "    }\n",
       "</style>\n",
       "<table border=\"1\" class=\"dataframe\">\n",
       "  <thead>\n",
       "    <tr style=\"text-align: right;\">\n",
       "      <th></th>\n",
       "      <th>count</th>\n",
       "      <th>mean</th>\n",
       "      <th>std</th>\n",
       "      <th>min</th>\n",
       "      <th>25%</th>\n",
       "      <th>50%</th>\n",
       "      <th>75%</th>\n",
       "      <th>max</th>\n",
       "    </tr>\n",
       "  </thead>\n",
       "  <tbody>\n",
       "    <tr>\n",
       "      <th>Propylene flow</th>\n",
       "      <td>2486.0</td>\n",
       "      <td>25306.285729</td>\n",
       "      <td>1706.481672</td>\n",
       "      <td>16106.025000</td>\n",
       "      <td>24361.632000</td>\n",
       "      <td>25365.754500</td>\n",
       "      <td>26398.452250</td>\n",
       "      <td>30083.688000</td>\n",
       "    </tr>\n",
       "    <tr>\n",
       "      <th>Hydrogen ratio</th>\n",
       "      <td>2560.0</td>\n",
       "      <td>0.178427</td>\n",
       "      <td>0.077473</td>\n",
       "      <td>0.000000</td>\n",
       "      <td>0.136000</td>\n",
       "      <td>0.173500</td>\n",
       "      <td>0.200000</td>\n",
       "      <td>0.980000</td>\n",
       "    </tr>\n",
       "    <tr>\n",
       "      <th>Pressure controller</th>\n",
       "      <td>2484.0</td>\n",
       "      <td>30.663706</td>\n",
       "      <td>0.423345</td>\n",
       "      <td>26.946344</td>\n",
       "      <td>30.446129</td>\n",
       "      <td>30.622631</td>\n",
       "      <td>30.925738</td>\n",
       "      <td>32.674332</td>\n",
       "    </tr>\n",
       "    <tr>\n",
       "      <th>Level controller</th>\n",
       "      <td>2484.0</td>\n",
       "      <td>77.651055</td>\n",
       "      <td>0.919600</td>\n",
       "      <td>74.575958</td>\n",
       "      <td>76.992151</td>\n",
       "      <td>77.494477</td>\n",
       "      <td>78.210867</td>\n",
       "      <td>83.841675</td>\n",
       "    </tr>\n",
       "    <tr>\n",
       "      <th>Liquefied Recycle gas to R-310 dome top</th>\n",
       "      <td>2484.0</td>\n",
       "      <td>42525.140000</td>\n",
       "      <td>11331.868960</td>\n",
       "      <td>9610.464800</td>\n",
       "      <td>34795.535000</td>\n",
       "      <td>41550.562500</td>\n",
       "      <td>50010.295000</td>\n",
       "      <td>106073.610000</td>\n",
       "    </tr>\n",
       "    <tr>\n",
       "      <th>Hydrogen Flow</th>\n",
       "      <td>2486.0</td>\n",
       "      <td>0.138530</td>\n",
       "      <td>0.041869</td>\n",
       "      <td>0.022162</td>\n",
       "      <td>0.113764</td>\n",
       "      <td>0.132986</td>\n",
       "      <td>0.156990</td>\n",
       "      <td>0.677979</td>\n",
       "    </tr>\n",
       "    <tr>\n",
       "      <th>Temperature controller</th>\n",
       "      <td>2484.0</td>\n",
       "      <td>80.144365</td>\n",
       "      <td>0.823554</td>\n",
       "      <td>77.760117</td>\n",
       "      <td>79.677458</td>\n",
       "      <td>80.044308</td>\n",
       "      <td>80.496296</td>\n",
       "      <td>91.566544</td>\n",
       "    </tr>\n",
       "    <tr>\n",
       "      <th>MFR</th>\n",
       "      <td>2564.0</td>\n",
       "      <td>8.185218</td>\n",
       "      <td>5.088696</td>\n",
       "      <td>1.500000</td>\n",
       "      <td>3.700000</td>\n",
       "      <td>4.300000</td>\n",
       "      <td>12.900000</td>\n",
       "      <td>38.000000</td>\n",
       "    </tr>\n",
       "  </tbody>\n",
       "</table>\n",
       "</div>"
      ],
      "text/plain": [
       "                                          count          mean           std  \\\n",
       "Propylene flow                           2486.0  25306.285729   1706.481672   \n",
       "Hydrogen ratio                           2560.0      0.178427      0.077473   \n",
       "Pressure controller                      2484.0     30.663706      0.423345   \n",
       "Level controller                         2484.0     77.651055      0.919600   \n",
       "Liquefied Recycle gas to R-310 dome top  2484.0  42525.140000  11331.868960   \n",
       "Hydrogen Flow                            2486.0      0.138530      0.041869   \n",
       "Temperature controller                   2484.0     80.144365      0.823554   \n",
       "MFR                                      2564.0      8.185218      5.088696   \n",
       "\n",
       "                                                  min           25%  \\\n",
       "Propylene flow                           16106.025000  24361.632000   \n",
       "Hydrogen ratio                               0.000000      0.136000   \n",
       "Pressure controller                         26.946344     30.446129   \n",
       "Level controller                            74.575958     76.992151   \n",
       "Liquefied Recycle gas to R-310 dome top   9610.464800  34795.535000   \n",
       "Hydrogen Flow                                0.022162      0.113764   \n",
       "Temperature controller                      77.760117     79.677458   \n",
       "MFR                                          1.500000      3.700000   \n",
       "\n",
       "                                                  50%           75%  \\\n",
       "Propylene flow                           25365.754500  26398.452250   \n",
       "Hydrogen ratio                               0.173500      0.200000   \n",
       "Pressure controller                         30.622631     30.925738   \n",
       "Level controller                            77.494477     78.210867   \n",
       "Liquefied Recycle gas to R-310 dome top  41550.562500  50010.295000   \n",
       "Hydrogen Flow                                0.132986      0.156990   \n",
       "Temperature controller                      80.044308     80.496296   \n",
       "MFR                                          4.300000     12.900000   \n",
       "\n",
       "                                                   max  \n",
       "Propylene flow                            30083.688000  \n",
       "Hydrogen ratio                                0.980000  \n",
       "Pressure controller                          32.674332  \n",
       "Level controller                             83.841675  \n",
       "Liquefied Recycle gas to R-310 dome top  106073.610000  \n",
       "Hydrogen Flow                                 0.677979  \n",
       "Temperature controller                       91.566544  \n",
       "MFR                                          38.000000  "
      ]
     },
     "execution_count": 8,
     "metadata": {},
     "output_type": "execute_result"
    }
   ],
   "source": [
    "df.describe().transpose()"
   ]
  },
  {
   "cell_type": "code",
   "execution_count": 9,
   "metadata": {},
   "outputs": [
    {
     "name": "stdout",
     "output_type": "stream",
     "text": [
      "<class 'pandas.core.frame.DataFrame'>\n",
      "RangeIndex: 2564 entries, 0 to 2563\n",
      "Data columns (total 8 columns):\n",
      " #   Column                                   Non-Null Count  Dtype  \n",
      "---  ------                                   --------------  -----  \n",
      " 0   Propylene flow                           2486 non-null   float64\n",
      " 1   Hydrogen ratio                           2560 non-null   float64\n",
      " 2   Pressure controller                      2484 non-null   float64\n",
      " 3   Level controller                         2484 non-null   float64\n",
      " 4   Liquefied Recycle gas to R-310 dome top  2484 non-null   float64\n",
      " 5   Hydrogen Flow                            2486 non-null   float64\n",
      " 6   Temperature controller                   2484 non-null   float64\n",
      " 7   MFR                                      2564 non-null   float64\n",
      "dtypes: float64(8)\n",
      "memory usage: 160.4 KB\n"
     ]
    }
   ],
   "source": [
    "#Check the information of data\n",
    "\n",
    "df.info()"
   ]
  },
  {
   "cell_type": "code",
   "execution_count": 10,
   "metadata": {},
   "outputs": [
    {
     "data": {
      "text/plain": [
       "38.0"
      ]
     },
     "execution_count": 10,
     "metadata": {},
     "output_type": "execute_result"
    }
   ],
   "source": [
    "#Checking the maximum MFR\n",
    "df['MFR'].max()"
   ]
  },
  {
   "cell_type": "code",
   "execution_count": 11,
   "metadata": {},
   "outputs": [
    {
     "data": {
      "text/plain": [
       "1.5"
      ]
     },
     "execution_count": 11,
     "metadata": {},
     "output_type": "execute_result"
    }
   ],
   "source": [
    "#Checking the minimum MFR\n",
    "df['MFR'].min()"
   ]
  },
  {
   "cell_type": "code",
   "execution_count": 12,
   "metadata": {},
   "outputs": [
    {
     "data": {
      "text/plain": [
       "Propylene flow                             78\n",
       "Hydrogen ratio                              4\n",
       "Pressure controller                        80\n",
       "Level controller                           80\n",
       "Liquefied Recycle gas to R-310 dome top    80\n",
       "Hydrogen Flow                              78\n",
       "Temperature controller                     80\n",
       "MFR                                         0\n",
       "dtype: int64"
      ]
     },
     "execution_count": 12,
     "metadata": {},
     "output_type": "execute_result"
    }
   ],
   "source": [
    "#Checking the null values\n",
    "df.isnull().sum()"
   ]
  },
  {
   "cell_type": "code",
   "execution_count": 13,
   "metadata": {},
   "outputs": [
    {
     "data": {
      "text/plain": [
       "<matplotlib.axes._subplots.AxesSubplot at 0x2174acc9988>"
      ]
     },
     "execution_count": 13,
     "metadata": {},
     "output_type": "execute_result"
    },
    {
     "data": {
      "image/png": "[encoded data removed]",
      "text/plain": [
       "<Figure size 864x576 with 1 Axes>"
      ]
     },
     "metadata": {
      "needs_background": "light"
     },
     "output_type": "display_data"
    }
   ],
   "source": [
    "#Checking the null values by visualisation \n",
    "\n",
    "plt.figure(figsize=(12,8))\n",
    "sns.heatmap(df.isnull(),cbar=False,cmap='viridis',yticklabels=False)"
   ]
  },
  {
   "cell_type": "code",
   "execution_count": 14,
   "metadata": {},
   "outputs": [
    {
     "data": {
      "text/plain": [
       "Propylene flow                            -0.247960\n",
       "Hydrogen Flow                             -0.208911\n",
       "Level controller                          -0.006452\n",
       "Temperature controller                     0.125628\n",
       "Liquefied Recycle gas to R-310 dome top    0.233219\n",
       "Hydrogen ratio                             0.316216\n",
       "Pressure controller                        0.438837\n",
       "MFR                                        1.000000\n",
       "Name: MFR, dtype: float64"
      ]
     },
     "execution_count": 14,
     "metadata": {},
     "output_type": "execute_result"
    }
   ],
   "source": [
    "#Checking Correlation\n",
    "df.corr()['MFR'].sort_values()"
   ]
  },
  {
   "cell_type": "code",
   "execution_count": 15,
   "metadata": {},
   "outputs": [
    {
     "data": {
      "text/plain": [
       "<matplotlib.axes._subplots.AxesSubplot at 0x21750685c08>"
      ]
     },
     "execution_count": 15,
     "metadata": {},
     "output_type": "execute_result"
    },
    {
     "data": {
      "image/png": "[encoded data removed]",
      "text/plain": [
       "<Figure size 720x432 with 1 Axes>"
      ]
     },
     "metadata": {
      "needs_background": "light"
     },
     "output_type": "display_data"
    }
   ],
   "source": [
    "#Correlation plot\n",
    "plt.figure(figsize=(10,6))\n",
    "df.corr()['MFR'].sort_values().plot(kind='bar')"
   ]
  },
  {
   "cell_type": "code",
   "execution_count": 16,
   "metadata": {},
   "outputs": [
    {
     "data": {
      "text/plain": [
       "<matplotlib.axes._subplots.AxesSubplot at 0x21750698088>"
      ]
     },
     "execution_count": 16,
     "metadata": {},
     "output_type": "execute_result"
    },
    {
     "data": {
      "image/png": "[encoded data removed]",
      "text/plain": [
       "<Figure size 864x432 with 2 Axes>"
      ]
     },
     "metadata": {
      "needs_background": "light"
     },
     "output_type": "display_data"
    }
   ],
   "source": [
    "plt.figure(figsize=(12,6))\n",
    "sns.heatmap(df.corr(),annot=True,cbar=True)"
   ]
  },
  {
   "cell_type": "markdown",
   "metadata": {},
   "source": [
    "# EDA"
   ]
  },
  {
   "cell_type": "code",
   "execution_count": 17,
   "metadata": {},
   "outputs": [
    {
     "data": {
      "text/plain": [
       "<matplotlib.axes._subplots.AxesSubplot at 0x21750640448>"
      ]
     },
     "execution_count": 17,
     "metadata": {},
     "output_type": "execute_result"
    },
    {
     "data": {
      "image/png": "[encoded data removed]",
      "text/plain": [
       "<Figure size 864x432 with 1 Axes>"
      ]
     },
     "metadata": {
      "needs_background": "light"
     },
     "output_type": "display_data"
    }
   ],
   "source": [
    "#Checking type of distribution\n",
    "plt.figure(figsize=(12,6))\n",
    "sns.distplot(df['MFR'])"
   ]
  },
  {
   "cell_type": "code",
   "execution_count": 18,
   "metadata": {},
   "outputs": [
    {
     "name": "stderr",
     "output_type": "stream",
     "text": [
      "D:\\anaconda3\\lib\\site-packages\\ipykernel_launcher.py:4: UserWarning: To output multiple subplots, the figure containing the passed axes is being cleared\n",
      "  after removing the cwd from sys.path.\n"
     ]
    },
    {
     "data": {
      "image/png": "[encoded data removed]",
      "text/plain": [
       "<Figure size 864x576 with 9 Axes>"
      ]
     },
     "metadata": {
      "needs_background": "light"
     },
     "output_type": "display_data"
    }
   ],
   "source": [
    "#Simple Visualisation of data using Pandas Histogram\n",
    "fig = plt.figure(figsize=(12,8))\n",
    "ax = fig.gca()\n",
    "df.hist(rwidth=0.9,ax=ax)\n",
    "plt.tight_layout()"
   ]
  },
  {
   "cell_type": "code",
   "execution_count": 19,
   "metadata": {},
   "outputs": [
    {
     "data": {
      "image/png": "[encoded data removed]",
      "text/plain": [
       "<Figure size 720x432 with 4 Axes>"
      ]
     },
     "metadata": {
      "needs_background": "light"
     },
     "output_type": "display_data"
    }
   ],
   "source": [
    "#Visualising continous features Vs MFR\n",
    "\n",
    "#MFR Vs Pressure controller\n",
    "plt.figure(figsize=(10,6))\n",
    "plt.subplot(2,2,1)\n",
    "sns.scatterplot(x='MFR',y='Pressure controller',data=df,color='r')\n",
    "plt.title('MFR Vs Pressure controller')\n",
    "\n",
    "#MFR Vs Propylene flow\n",
    "plt.subplot(2,2,2)\n",
    "sns.scatterplot(x='MFR',y='Propylene flow',data=df,color='m')\n",
    "plt.title('MFR Vs Propylene flow')\n",
    "\n",
    "#MFR Vs Hydrogen ratio\n",
    "plt.subplot(2,2,3)\n",
    "sns.scatterplot(x='MFR',y='Hydrogen ratio',data=df,color='g')\n",
    "plt.title('MFR Vs Hydrogen ratio')\n",
    "\n",
    "#MFR Vs Level controller\n",
    "plt.subplot(2,2,4)\n",
    "sns.scatterplot(x='MFR',y='Level controller',data=df,color='brown')\n",
    "plt.title('MFR Vs Level controller')\n",
    "\n",
    "plt.tight_layout(pad=4)"
   ]
  },
  {
   "cell_type": "code",
   "execution_count": 20,
   "metadata": {},
   "outputs": [
    {
     "data": {
      "image/png": "[encoded data removed]",
      "text/plain": [
       "<Figure size 720x432 with 3 Axes>"
      ]
     },
     "metadata": {
      "needs_background": "light"
     },
     "output_type": "display_data"
    }
   ],
   "source": [
    "#Visualising continous features Vs MFR\n",
    "#MFR Vs Hydrogen Flow\n",
    "plt.figure(figsize=(10,6))\n",
    "plt.subplot(2,2,1)\n",
    "sns.scatterplot(x='MFR',y='Hydrogen Flow',data=df,color='r')\n",
    "plt.title('MFR Vs Hydrogen Flow')\n",
    "\n",
    "#MFR Vs Temperature controller\n",
    "plt.subplot(2,2,2)\n",
    "sns.scatterplot(x='MFR',y='Temperature controller',data=df,color='g')\n",
    "plt.title('MFR Vs Temperature controller')\n",
    "\n",
    "#MFR Vs Liquefied Recycle gas to R-310 dome top\n",
    "plt.subplot(2,2,3)\n",
    "sns.scatterplot(x='MFR',y='Liquefied Recycle gas to R-310 dome top',data=df,color='m')\n",
    "plt.title('MFR Vs Liquefied Recycle gas to R-310 dome top')\n",
    "\n",
    "\n",
    "plt.tight_layout(pad=1)"
   ]
  },
  {
   "cell_type": "code",
   "execution_count": 21,
   "metadata": {},
   "outputs": [
    {
     "data": {
      "text/plain": [
       "count    2564.000000\n",
       "mean        8.185218\n",
       "std         5.088696\n",
       "min         1.500000\n",
       "25%         3.700000\n",
       "50%         4.300000\n",
       "75%        12.900000\n",
       "max        38.000000\n",
       "Name: MFR, dtype: float64"
      ]
     },
     "execution_count": 21,
     "metadata": {},
     "output_type": "execute_result"
    }
   ],
   "source": [
    "#Check for outiers\n",
    "df['MFR'].describe()"
   ]
  },
  {
   "cell_type": "code",
   "execution_count": 22,
   "metadata": {},
   "outputs": [
    {
     "data": {
      "image/png": "[encoded data removed]",
      "text/plain": [
       "<Figure size 432x288 with 2 Axes>"
      ]
     },
     "metadata": {
      "needs_background": "light"
     },
     "output_type": "display_data"
    }
   ],
   "source": [
    "\n",
    "plt.subplot(1,2,1)\n",
    "df['Propylene flow'].plot(kind='box',color='red')\n",
    "\n",
    "plt.subplot(1,2,2)\n",
    "sns.distplot(df['Propylene flow'],color='m')\n",
    "\n",
    "plt.tight_layout()"
   ]
  },
  {
   "cell_type": "code",
   "execution_count": 23,
   "metadata": {},
   "outputs": [
    {
     "data": {
      "text/plain": [
       "0.05     3.300\n",
       "0.10     3.500\n",
       "0.15     3.600\n",
       "0.90    14.500\n",
       "0.95    15.700\n",
       "0.99    19.548\n",
       "Name: MFR, dtype: float64"
      ]
     },
     "execution_count": 23,
     "metadata": {},
     "output_type": "execute_result"
    }
   ],
   "source": [
    "df['MFR'].quantile([0.05,0.1,0.15,0.9,0.95,0.99])"
   ]
  },
  {
   "cell_type": "code",
   "execution_count": 24,
   "metadata": {},
   "outputs": [],
   "source": [
    "#Linearity using correaltion coeficient matrix using corr\n",
    "correlation = df[['Propylene flow','Hydrogen ratio','Pressure controller','Pressure controller','Level controller','Liquefied Recycle gas to R-310 dome top','Hydrogen Flow','Temperature controller']].corr()"
   ]
  },
  {
   "cell_type": "code",
   "execution_count": 25,
   "metadata": {},
   "outputs": [
    {
     "data": {
      "text/html": [
       "<div>\n",
       "<style scoped>\n",
       "    .dataframe tbody tr th:only-of-type {\n",
       "        vertical-align: middle;\n",
       "    }\n",
       "\n",
       "    .dataframe tbody tr th {\n",
       "        vertical-align: top;\n",
       "    }\n",
       "\n",
       "    .dataframe thead th {\n",
       "        text-align: right;\n",
       "    }\n",
       "</style>\n",
       "<table border=\"1\" class=\"dataframe\">\n",
       "  <thead>\n",
       "    <tr style=\"text-align: right;\">\n",
       "      <th></th>\n",
       "      <th>Propylene flow</th>\n",
       "      <th>Hydrogen ratio</th>\n",
       "      <th>Pressure controller</th>\n",
       "      <th>Pressure controller</th>\n",
       "      <th>Level controller</th>\n",
       "      <th>Liquefied Recycle gas to R-310 dome top</th>\n",
       "      <th>Hydrogen Flow</th>\n",
       "      <th>Temperature controller</th>\n",
       "    </tr>\n",
       "  </thead>\n",
       "  <tbody>\n",
       "    <tr>\n",
       "      <th>Propylene flow</th>\n",
       "      <td>1.000000</td>\n",
       "      <td>-0.035846</td>\n",
       "      <td>-0.246382</td>\n",
       "      <td>-0.246382</td>\n",
       "      <td>0.207590</td>\n",
       "      <td>0.387429</td>\n",
       "      <td>0.280031</td>\n",
       "      <td>-0.157591</td>\n",
       "    </tr>\n",
       "    <tr>\n",
       "      <th>Hydrogen ratio</th>\n",
       "      <td>-0.035846</td>\n",
       "      <td>1.000000</td>\n",
       "      <td>0.221576</td>\n",
       "      <td>0.221576</td>\n",
       "      <td>0.104436</td>\n",
       "      <td>0.375745</td>\n",
       "      <td>0.226894</td>\n",
       "      <td>0.052967</td>\n",
       "    </tr>\n",
       "    <tr>\n",
       "      <th>Pressure controller</th>\n",
       "      <td>-0.246382</td>\n",
       "      <td>0.221576</td>\n",
       "      <td>1.000000</td>\n",
       "      <td>1.000000</td>\n",
       "      <td>0.044294</td>\n",
       "      <td>0.064547</td>\n",
       "      <td>-0.152372</td>\n",
       "      <td>-0.036286</td>\n",
       "    </tr>\n",
       "    <tr>\n",
       "      <th>Pressure controller</th>\n",
       "      <td>-0.246382</td>\n",
       "      <td>0.221576</td>\n",
       "      <td>1.000000</td>\n",
       "      <td>1.000000</td>\n",
       "      <td>0.044294</td>\n",
       "      <td>0.064547</td>\n",
       "      <td>-0.152372</td>\n",
       "      <td>-0.036286</td>\n",
       "    </tr>\n",
       "    <tr>\n",
       "      <th>Level controller</th>\n",
       "      <td>0.207590</td>\n",
       "      <td>0.104436</td>\n",
       "      <td>0.044294</td>\n",
       "      <td>0.044294</td>\n",
       "      <td>1.000000</td>\n",
       "      <td>0.289986</td>\n",
       "      <td>0.000157</td>\n",
       "      <td>-0.084688</td>\n",
       "    </tr>\n",
       "    <tr>\n",
       "      <th>Liquefied Recycle gas to R-310 dome top</th>\n",
       "      <td>0.387429</td>\n",
       "      <td>0.375745</td>\n",
       "      <td>0.064547</td>\n",
       "      <td>0.064547</td>\n",
       "      <td>0.289986</td>\n",
       "      <td>1.000000</td>\n",
       "      <td>0.246106</td>\n",
       "      <td>0.116090</td>\n",
       "    </tr>\n",
       "    <tr>\n",
       "      <th>Hydrogen Flow</th>\n",
       "      <td>0.280031</td>\n",
       "      <td>0.226894</td>\n",
       "      <td>-0.152372</td>\n",
       "      <td>-0.152372</td>\n",
       "      <td>0.000157</td>\n",
       "      <td>0.246106</td>\n",
       "      <td>1.000000</td>\n",
       "      <td>0.103214</td>\n",
       "    </tr>\n",
       "    <tr>\n",
       "      <th>Temperature controller</th>\n",
       "      <td>-0.157591</td>\n",
       "      <td>0.052967</td>\n",
       "      <td>-0.036286</td>\n",
       "      <td>-0.036286</td>\n",
       "      <td>-0.084688</td>\n",
       "      <td>0.116090</td>\n",
       "      <td>0.103214</td>\n",
       "      <td>1.000000</td>\n",
       "    </tr>\n",
       "  </tbody>\n",
       "</table>\n",
       "</div>"
      ],
      "text/plain": [
       "                                         Propylene flow  Hydrogen ratio  \\\n",
       "Propylene flow                                 1.000000       -0.035846   \n",
       "Hydrogen ratio                                -0.035846        1.000000   \n",
       "Pressure controller                           -0.246382        0.221576   \n",
       "Pressure controller                           -0.246382        0.221576   \n",
       "Level controller                               0.207590        0.104436   \n",
       "Liquefied Recycle gas to R-310 dome top        0.387429        0.375745   \n",
       "Hydrogen Flow                                  0.280031        0.226894   \n",
       "Temperature controller                        -0.157591        0.052967   \n",
       "\n",
       "                                         Pressure controller  \\\n",
       "Propylene flow                                     -0.246382   \n",
       "Hydrogen ratio                                      0.221576   \n",
       "Pressure controller                                 1.000000   \n",
       "Pressure controller                                 1.000000   \n",
       "Level controller                                    0.044294   \n",
       "Liquefied Recycle gas to R-310 dome top             0.064547   \n",
       "Hydrogen Flow                                      -0.152372   \n",
       "Temperature controller                             -0.036286   \n",
       "\n",
       "                                         Pressure controller  \\\n",
       "Propylene flow                                     -0.246382   \n",
       "Hydrogen ratio                                      0.221576   \n",
       "Pressure controller                                 1.000000   \n",
       "Pressure controller                                 1.000000   \n",
       "Level controller                                    0.044294   \n",
       "Liquefied Recycle gas to R-310 dome top             0.064547   \n",
       "Hydrogen Flow                                      -0.152372   \n",
       "Temperature controller                             -0.036286   \n",
       "\n",
       "                                         Level controller  \\\n",
       "Propylene flow                                   0.207590   \n",
       "Hydrogen ratio                                   0.104436   \n",
       "Pressure controller                              0.044294   \n",
       "Pressure controller                              0.044294   \n",
       "Level controller                                 1.000000   \n",
       "Liquefied Recycle gas to R-310 dome top          0.289986   \n",
       "Hydrogen Flow                                    0.000157   \n",
       "Temperature controller                          -0.084688   \n",
       "\n",
       "                                         Liquefied Recycle gas to R-310 dome top  \\\n",
       "Propylene flow                                                          0.387429   \n",
       "Hydrogen ratio                                                          0.375745   \n",
       "Pressure controller                                                     0.064547   \n",
       "Pressure controller                                                     0.064547   \n",
       "Level controller                                                        0.289986   \n",
       "Liquefied Recycle gas to R-310 dome top                                 1.000000   \n",
       "Hydrogen Flow                                                           0.246106   \n",
       "Temperature controller                                                  0.116090   \n",
       "\n",
       "                                         Hydrogen Flow  Temperature controller  \n",
       "Propylene flow                                0.280031               -0.157591  \n",
       "Hydrogen ratio                                0.226894                0.052967  \n",
       "Pressure controller                          -0.152372               -0.036286  \n",
       "Pressure controller                          -0.152372               -0.036286  \n",
       "Level controller                              0.000157               -0.084688  \n",
       "Liquefied Recycle gas to R-310 dome top       0.246106                0.116090  \n",
       "Hydrogen Flow                                 1.000000                0.103214  \n",
       "Temperature controller                        0.103214                1.000000  "
      ]
     },
     "execution_count": 25,
     "metadata": {},
     "output_type": "execute_result"
    }
   ],
   "source": [
    "correlation"
   ]
  },
  {
   "cell_type": "code",
   "execution_count": 26,
   "metadata": {},
   "outputs": [
    {
     "data": {
      "text/plain": [
       "(array([-10,  -9,  -8,  -7,  -6,  -5,  -4,  -3,  -2,  -1,   0,   1,   2,\n",
       "          3,   4,   5,   6,   7,   8,   9,  10]),\n",
       " array([0.93161595, 0.93435055, 0.93748575, 0.9410981 , 0.9451357 ,\n",
       "        0.94973916, 0.95485073, 0.9601605 , 0.9663265 , 0.97210336,\n",
       "        1.        , 0.97210336, 0.9663265 , 0.9601605 , 0.95485073,\n",
       "        0.94973916, 0.9451357 , 0.9410981 , 0.93748575, 0.93435055,\n",
       "        0.93161595], dtype=float32),\n",
       " <matplotlib.collections.LineCollection at 0x2175141d288>,\n",
       " <matplotlib.lines.Line2D at 0x21751a75d48>)"
      ]
     },
     "execution_count": 26,
     "metadata": {},
     "output_type": "execute_result"
    },
    {
     "data": {
      "image/png": "[encoded data removed]",
      "text/plain": [
       "<Figure size 432x288 with 1 Axes>"
      ]
     },
     "metadata": {
      "needs_background": "light"
     },
     "output_type": "display_data"
    }
   ],
   "source": [
    "#Check The autocorrelation in demand using the acorr plot \n",
    "df_1 = pd.to_numeric(df['MFR'],downcast='float')\n",
    "plt.acorr(df_1)"
   ]
  },
  {
   "cell_type": "code",
   "execution_count": 27,
   "metadata": {},
   "outputs": [],
   "source": [
    "#Log Normalise the feature 'MFR'\n",
    "df_1 = df['MFR']"
   ]
  },
  {
   "cell_type": "code",
   "execution_count": 28,
   "metadata": {},
   "outputs": [],
   "source": [
    "df2 = np.log(df_1)"
   ]
  },
  {
   "cell_type": "code",
   "execution_count": 29,
   "metadata": {},
   "outputs": [
    {
     "data": {
      "text/plain": [
       "<matplotlib.axes._subplots.AxesSubplot at 0x21751aa9d08>"
      ]
     },
     "execution_count": 29,
     "metadata": {},
     "output_type": "execute_result"
    },
    {
     "data": {
      "image/png": "[encoded data removed]",
      "text/plain": [
       "<Figure size 432x288 with 1 Axes>"
      ]
     },
     "metadata": {
      "needs_background": "light"
     },
     "output_type": "display_data"
    }
   ],
   "source": [
    "plt.figure\n",
    "df_1.hist(rwidth=0.9,bins=20)"
   ]
  },
  {
   "cell_type": "code",
   "execution_count": 30,
   "metadata": {},
   "outputs": [
    {
     "data": {
      "text/plain": [
       "<matplotlib.axes._subplots.AxesSubplot at 0x21751b65048>"
      ]
     },
     "execution_count": 30,
     "metadata": {},
     "output_type": "execute_result"
    },
    {
     "data": {
      "image/png": "[encoded data removed]",
      "text/plain": [
       "<Figure size 432x288 with 1 Axes>"
      ]
     },
     "metadata": {
      "needs_background": "light"
     },
     "output_type": "display_data"
    }
   ],
   "source": [
    "plt.figure\n",
    "df2.hist(rwidth=0.9,bins=20)"
   ]
  },
  {
   "cell_type": "code",
   "execution_count": 31,
   "metadata": {},
   "outputs": [],
   "source": [
    "df['MFR'] = np.log(df['MFR'])"
   ]
  },
  {
   "cell_type": "code",
   "execution_count": 32,
   "metadata": {},
   "outputs": [],
   "source": [
    "#Auto correlation ih the demand column\n",
    "t_1 = df['MFR'].shift(+1).to_frame()\n",
    "t_1.columns = ['t-1']"
   ]
  },
  {
   "cell_type": "code",
   "execution_count": 33,
   "metadata": {},
   "outputs": [],
   "source": [
    "t_2 = df['MFR'].shift(+2).to_frame()\n",
    "t_2.columns = ['t-2']"
   ]
  },
  {
   "cell_type": "code",
   "execution_count": 34,
   "metadata": {},
   "outputs": [],
   "source": [
    "t_3 = df['MFR'].shift(+3).to_frame()\n",
    "t_3.columns = ['t-3']"
   ]
  },
  {
   "cell_type": "code",
   "execution_count": 35,
   "metadata": {},
   "outputs": [],
   "source": [
    "#Concating The T1,T2,T3\n",
    "df_lag = pd.concat([df,t_1,t_2,t_3],axis=1)"
   ]
  },
  {
   "cell_type": "code",
   "execution_count": 36,
   "metadata": {},
   "outputs": [
    {
     "data": {
      "text/html": [
       "<div>\n",
       "<style scoped>\n",
       "    .dataframe tbody tr th:only-of-type {\n",
       "        vertical-align: middle;\n",
       "    }\n",
       "\n",
       "    .dataframe tbody tr th {\n",
       "        vertical-align: top;\n",
       "    }\n",
       "\n",
       "    .dataframe thead th {\n",
       "        text-align: right;\n",
       "    }\n",
       "</style>\n",
       "<table border=\"1\" class=\"dataframe\">\n",
       "  <thead>\n",
       "    <tr style=\"text-align: right;\">\n",
       "      <th></th>\n",
       "      <th>Propylene flow</th>\n",
       "      <th>Hydrogen ratio</th>\n",
       "      <th>Pressure controller</th>\n",
       "      <th>Level controller</th>\n",
       "      <th>Liquefied Recycle gas to R-310 dome top</th>\n",
       "      <th>Hydrogen Flow</th>\n",
       "      <th>Temperature controller</th>\n",
       "      <th>MFR</th>\n",
       "      <th>t-1</th>\n",
       "      <th>t-2</th>\n",
       "      <th>t-3</th>\n",
       "    </tr>\n",
       "  </thead>\n",
       "  <tbody>\n",
       "    <tr>\n",
       "      <th>0</th>\n",
       "      <td>24856.584</td>\n",
       "      <td>0.153</td>\n",
       "      <td>30.414835</td>\n",
       "      <td>79.657906</td>\n",
       "      <td>50850.578</td>\n",
       "      <td>0.163994</td>\n",
       "      <td>80.399605</td>\n",
       "      <td>1.223775</td>\n",
       "      <td>NaN</td>\n",
       "      <td>NaN</td>\n",
       "      <td>NaN</td>\n",
       "    </tr>\n",
       "    <tr>\n",
       "      <th>1</th>\n",
       "      <td>25537.250</td>\n",
       "      <td>0.153</td>\n",
       "      <td>30.527121</td>\n",
       "      <td>78.532608</td>\n",
       "      <td>42229.813</td>\n",
       "      <td>0.129739</td>\n",
       "      <td>78.861328</td>\n",
       "      <td>1.163151</td>\n",
       "      <td>1.223775</td>\n",
       "      <td>NaN</td>\n",
       "      <td>NaN</td>\n",
       "    </tr>\n",
       "    <tr>\n",
       "      <th>2</th>\n",
       "      <td>25689.266</td>\n",
       "      <td>0.153</td>\n",
       "      <td>30.356180</td>\n",
       "      <td>78.842636</td>\n",
       "      <td>45335.852</td>\n",
       "      <td>0.150003</td>\n",
       "      <td>78.818115</td>\n",
       "      <td>1.163151</td>\n",
       "      <td>1.163151</td>\n",
       "      <td>1.223775</td>\n",
       "      <td>NaN</td>\n",
       "    </tr>\n",
       "    <tr>\n",
       "      <th>3</th>\n",
       "      <td>25098.754</td>\n",
       "      <td>0.153</td>\n",
       "      <td>30.894308</td>\n",
       "      <td>79.173500</td>\n",
       "      <td>43077.016</td>\n",
       "      <td>0.151543</td>\n",
       "      <td>79.022720</td>\n",
       "      <td>1.131402</td>\n",
       "      <td>1.163151</td>\n",
       "      <td>1.163151</td>\n",
       "      <td>1.223775</td>\n",
       "    </tr>\n",
       "    <tr>\n",
       "      <th>4</th>\n",
       "      <td>24853.941</td>\n",
       "      <td>0.150</td>\n",
       "      <td>30.680647</td>\n",
       "      <td>78.677299</td>\n",
       "      <td>40404.387</td>\n",
       "      <td>0.122582</td>\n",
       "      <td>79.038483</td>\n",
       "      <td>1.193922</td>\n",
       "      <td>1.131402</td>\n",
       "      <td>1.163151</td>\n",
       "      <td>1.163151</td>\n",
       "    </tr>\n",
       "  </tbody>\n",
       "</table>\n",
       "</div>"
      ],
      "text/plain": [
       "   Propylene flow  Hydrogen ratio  Pressure controller  Level controller  \\\n",
       "0       24856.584           0.153            30.414835         79.657906   \n",
       "1       25537.250           0.153            30.527121         78.532608   \n",
       "2       25689.266           0.153            30.356180         78.842636   \n",
       "3       25098.754           0.153            30.894308         79.173500   \n",
       "4       24853.941           0.150            30.680647         78.677299   \n",
       "\n",
       "   Liquefied Recycle gas to R-310 dome top  Hydrogen Flow  \\\n",
       "0                                50850.578       0.163994   \n",
       "1                                42229.813       0.129739   \n",
       "2                                45335.852       0.150003   \n",
       "3                                43077.016       0.151543   \n",
       "4                                40404.387       0.122582   \n",
       "\n",
       "   Temperature controller       MFR       t-1       t-2       t-3  \n",
       "0               80.399605  1.223775       NaN       NaN       NaN  \n",
       "1               78.861328  1.163151  1.223775       NaN       NaN  \n",
       "2               78.818115  1.163151  1.163151  1.223775       NaN  \n",
       "3               79.022720  1.131402  1.163151  1.163151  1.223775  \n",
       "4               79.038483  1.193922  1.131402  1.163151  1.163151  "
      ]
     },
     "execution_count": 36,
     "metadata": {},
     "output_type": "execute_result"
    }
   ],
   "source": [
    "df_lag.head()"
   ]
  },
  {
   "cell_type": "markdown",
   "metadata": {},
   "source": [
    "# Dropping Null Values"
   ]
  },
  {
   "cell_type": "code",
   "execution_count": 37,
   "metadata": {},
   "outputs": [],
   "source": [
    "df_lag = df_lag.dropna()"
   ]
  },
  {
   "cell_type": "code",
   "execution_count": 38,
   "metadata": {},
   "outputs": [],
   "source": [
    "from sklearn.model_selection import train_test_split"
   ]
  },
  {
   "cell_type": "code",
   "execution_count": 39,
   "metadata": {},
   "outputs": [],
   "source": [
    "X = df_lag.drop('MFR',axis=1).values"
   ]
  },
  {
   "cell_type": "code",
   "execution_count": 40,
   "metadata": {},
   "outputs": [],
   "source": [
    "y = df_lag['MFR'].values"
   ]
  },
  {
   "cell_type": "code",
   "execution_count": 41,
   "metadata": {},
   "outputs": [],
   "source": [
    "X_train,X_test,y_train,y_test = train_test_split(X,y,test_size=0.3, random_state=101)"
   ]
  },
  {
   "cell_type": "markdown",
   "metadata": {},
   "source": [
    "# Feature Scaling"
   ]
  },
  {
   "cell_type": "code",
   "execution_count": 42,
   "metadata": {},
   "outputs": [],
   "source": [
    "from sklearn.preprocessing import Normalizer"
   ]
  },
  {
   "cell_type": "code",
   "execution_count": 43,
   "metadata": {},
   "outputs": [],
   "source": [
    "scaler = Normalizer()"
   ]
  },
  {
   "cell_type": "code",
   "execution_count": 44,
   "metadata": {},
   "outputs": [],
   "source": [
    "X_train = scaler.fit_transform(X_train)"
   ]
  },
  {
   "cell_type": "code",
   "execution_count": 45,
   "metadata": {},
   "outputs": [],
   "source": [
    "X_test = scaler.transform(X_test)"
   ]
  },
  {
   "cell_type": "markdown",
   "metadata": {},
   "source": [
    "# Creating The Model "
   ]
  },
  {
   "cell_type": "code",
   "execution_count": 46,
   "metadata": {},
   "outputs": [],
   "source": [
    "#Linear regression\n",
    "from sklearn.linear_model import LinearRegression"
   ]
  },
  {
   "cell_type": "code",
   "execution_count": 47,
   "metadata": {},
   "outputs": [],
   "source": [
    "lr = LinearRegression()"
   ]
  },
  {
   "cell_type": "code",
   "execution_count": 48,
   "metadata": {},
   "outputs": [
    {
     "data": {
      "text/plain": [
       "LinearRegression(copy_X=True, fit_intercept=True, n_jobs=None, normalize=False)"
      ]
     },
     "execution_count": 48,
     "metadata": {},
     "output_type": "execute_result"
    }
   ],
   "source": [
    "lr.fit(X_train,y_train)"
   ]
  },
  {
   "cell_type": "code",
   "execution_count": 49,
   "metadata": {},
   "outputs": [],
   "source": [
    "#Create Y prediction \n",
    "pred = lr.predict(X_test)"
   ]
  },
  {
   "cell_type": "code",
   "execution_count": 50,
   "metadata": {},
   "outputs": [
    {
     "data": {
      "text/plain": [
       "[<matplotlib.lines.Line2D at 0x2175123eac8>]"
      ]
     },
     "execution_count": 50,
     "metadata": {},
     "output_type": "execute_result"
    },
    {
     "data": {
      "image/png": "[encoded data removed]",
      "text/plain": [
       "<Figure size 720x432 with 1 Axes>"
      ]
     },
     "metadata": {
      "needs_background": "light"
     },
     "output_type": "display_data"
    }
   ],
   "source": [
    "plt.figure(figsize=(10,6))\n",
    "plt.scatter(y_test,pred)\n",
    "plt.plot(y_test,y_test,'r')"
   ]
  },
  {
   "cell_type": "markdown",
   "metadata": {},
   "source": [
    "# Evaluating The Model"
   ]
  },
  {
   "cell_type": "code",
   "execution_count": 51,
   "metadata": {},
   "outputs": [],
   "source": [
    "from sklearn.metrics import mean_absolute_error,mean_squared_error,r2_score"
   ]
  },
  {
   "cell_type": "code",
   "execution_count": 52,
   "metadata": {},
   "outputs": [
    {
     "name": "stdout",
     "output_type": "stream",
     "text": [
      "0.9070091817277798\n"
     ]
    }
   ],
   "source": [
    "print(r2_score(y_test,pred))"
   ]
  },
  {
   "cell_type": "code",
   "execution_count": 53,
   "metadata": {},
   "outputs": [
    {
     "name": "stdout",
     "output_type": "stream",
     "text": [
      "0.12294004369653978\n"
     ]
    }
   ],
   "source": [
    "print(mean_absolute_error(y_test,pred))"
   ]
  },
  {
   "cell_type": "code",
   "execution_count": 54,
   "metadata": {},
   "outputs": [
    {
     "name": "stdout",
     "output_type": "stream",
     "text": [
      "0.03666653505929833\n"
     ]
    }
   ],
   "source": [
    "print(mean_squared_error(y_test,pred))"
   ]
  },
  {
   "cell_type": "code",
   "execution_count": 55,
   "metadata": {},
   "outputs": [
    {
     "data": {
      "text/plain": [
       "0.19148507790242647"
      ]
     },
     "execution_count": 55,
     "metadata": {},
     "output_type": "execute_result"
    }
   ],
   "source": [
    "np.sqrt(mean_squared_error(y_test,pred))"
   ]
  },
  {
   "cell_type": "markdown",
   "metadata": {},
   "source": [
    "# Applying Random Forest"
   ]
  },
  {
   "cell_type": "code",
   "execution_count": 56,
   "metadata": {},
   "outputs": [],
   "source": [
    "from sklearn.ensemble import RandomForestRegressor"
   ]
  },
  {
   "cell_type": "code",
   "execution_count": 57,
   "metadata": {},
   "outputs": [],
   "source": [
    "forest = RandomForestRegressor(n_estimators=200)"
   ]
  },
  {
   "cell_type": "code",
   "execution_count": 58,
   "metadata": {},
   "outputs": [
    {
     "data": {
      "text/plain": [
       "RandomForestRegressor(bootstrap=True, ccp_alpha=0.0, criterion='mse',\n",
       "                      max_depth=None, max_features='auto', max_leaf_nodes=None,\n",
       "                      max_samples=None, min_impurity_decrease=0.0,\n",
       "                      min_impurity_split=None, min_samples_leaf=1,\n",
       "                      min_samples_split=2, min_weight_fraction_leaf=0.0,\n",
       "                      n_estimators=200, n_jobs=None, oob_score=False,\n",
       "                      random_state=None, verbose=0, warm_start=False)"
      ]
     },
     "execution_count": 58,
     "metadata": {},
     "output_type": "execute_result"
    }
   ],
   "source": [
    "forest.fit(X_train,y_train)"
   ]
  },
  {
   "cell_type": "code",
   "execution_count": 59,
   "metadata": {},
   "outputs": [],
   "source": [
    "pred = forest.predict(X_test)"
   ]
  },
  {
   "cell_type": "code",
   "execution_count": 60,
   "metadata": {},
   "outputs": [
    {
     "data": {
      "text/plain": [
       "[<matplotlib.lines.Line2D at 0x21751173c48>]"
      ]
     },
     "execution_count": 60,
     "metadata": {},
     "output_type": "execute_result"
    },
    {
     "data": {
      "image/png": "[encoded data removed]",
      "text/plain": [
       "<Figure size 720x432 with 1 Axes>"
      ]
     },
     "metadata": {
      "needs_background": "light"
     },
     "output_type": "display_data"
    }
   ],
   "source": [
    "plt.figure(figsize=(10,6))\n",
    "plt.scatter(y_test,pred)\n",
    "plt.plot(y_test,y_test,'r')"
   ]
  },
  {
   "cell_type": "code",
   "execution_count": 61,
   "metadata": {},
   "outputs": [
    {
     "name": "stdout",
     "output_type": "stream",
     "text": [
      "0.9345584373509369\n"
     ]
    }
   ],
   "source": [
    "print(r2_score(y_test,pred))"
   ]
  },
  {
   "cell_type": "code",
   "execution_count": 62,
   "metadata": {},
   "outputs": [
    {
     "name": "stdout",
     "output_type": "stream",
     "text": [
      "0.07561896954299266\n"
     ]
    }
   ],
   "source": [
    "print(mean_absolute_error(y_test,pred))"
   ]
  },
  {
   "cell_type": "code",
   "execution_count": 63,
   "metadata": {},
   "outputs": [
    {
     "data": {
      "text/plain": [
       "0.16063557482242286"
      ]
     },
     "execution_count": 63,
     "metadata": {},
     "output_type": "execute_result"
    }
   ],
   "source": [
    "np.sqrt(mean_squared_error(y_test,pred))"
   ]
  },
  {
   "cell_type": "markdown",
   "metadata": {},
   "source": [
    "# Applying Neural Network"
   ]
  },
  {
   "cell_type": "code",
   "execution_count": 64,
   "metadata": {},
   "outputs": [
    {
     "name": "stderr",
     "output_type": "stream",
     "text": [
      "D:\\anaconda3\\lib\\site-packages\\tensorflow\\python\\framework\\dtypes.py:516: FutureWarning: Passing (type, 1) or '1type' as a synonym of type is deprecated; in a future version of numpy, it will be understood as (type, (1,)) / '(1,)type'.\n",
      "  _np_qint8 = np.dtype([(\"qint8\", np.int8, 1)])\n",
      "D:\\anaconda3\\lib\\site-packages\\tensorflow\\python\\framework\\dtypes.py:517: FutureWarning: Passing (type, 1) or '1type' as a synonym of type is deprecated; in a future version of numpy, it will be understood as (type, (1,)) / '(1,)type'.\n",
      "  _np_quint8 = np.dtype([(\"quint8\", np.uint8, 1)])\n",
      "D:\\anaconda3\\lib\\site-packages\\tensorflow\\python\\framework\\dtypes.py:518: FutureWarning: Passing (type, 1) or '1type' as a synonym of type is deprecated; in a future version of numpy, it will be understood as (type, (1,)) / '(1,)type'.\n",
      "  _np_qint16 = np.dtype([(\"qint16\", np.int16, 1)])\n",
      "D:\\anaconda3\\lib\\site-packages\\tensorflow\\python\\framework\\dtypes.py:519: FutureWarning: Passing (type, 1) or '1type' as a synonym of type is deprecated; in a future version of numpy, it will be understood as (type, (1,)) / '(1,)type'.\n",
      "  _np_quint16 = np.dtype([(\"quint16\", np.uint16, 1)])\n",
      "D:\\anaconda3\\lib\\site-packages\\tensorflow\\python\\framework\\dtypes.py:520: FutureWarning: Passing (type, 1) or '1type' as a synonym of type is deprecated; in a future version of numpy, it will be understood as (type, (1,)) / '(1,)type'.\n",
      "  _np_qint32 = np.dtype([(\"qint32\", np.int32, 1)])\n",
      "D:\\anaconda3\\lib\\site-packages\\tensorflow\\python\\framework\\dtypes.py:525: FutureWarning: Passing (type, 1) or '1type' as a synonym of type is deprecated; in a future version of numpy, it will be understood as (type, (1,)) / '(1,)type'.\n",
      "  np_resource = np.dtype([(\"resource\", np.ubyte, 1)])\n",
      "D:\\anaconda3\\lib\\site-packages\\tensorboard\\compat\\tensorflow_stub\\dtypes.py:541: FutureWarning: Passing (type, 1) or '1type' as a synonym of type is deprecated; in a future version of numpy, it will be understood as (type, (1,)) / '(1,)type'.\n",
      "  _np_qint8 = np.dtype([(\"qint8\", np.int8, 1)])\n",
      "D:\\anaconda3\\lib\\site-packages\\tensorboard\\compat\\tensorflow_stub\\dtypes.py:542: FutureWarning: Passing (type, 1) or '1type' as a synonym of type is deprecated; in a future version of numpy, it will be understood as (type, (1,)) / '(1,)type'.\n",
      "  _np_quint8 = np.dtype([(\"quint8\", np.uint8, 1)])\n",
      "D:\\anaconda3\\lib\\site-packages\\tensorboard\\compat\\tensorflow_stub\\dtypes.py:543: FutureWarning: Passing (type, 1) or '1type' as a synonym of type is deprecated; in a future version of numpy, it will be understood as (type, (1,)) / '(1,)type'.\n",
      "  _np_qint16 = np.dtype([(\"qint16\", np.int16, 1)])\n",
      "D:\\anaconda3\\lib\\site-packages\\tensorboard\\compat\\tensorflow_stub\\dtypes.py:544: FutureWarning: Passing (type, 1) or '1type' as a synonym of type is deprecated; in a future version of numpy, it will be understood as (type, (1,)) / '(1,)type'.\n",
      "  _np_quint16 = np.dtype([(\"quint16\", np.uint16, 1)])\n",
      "D:\\anaconda3\\lib\\site-packages\\tensorboard\\compat\\tensorflow_stub\\dtypes.py:545: FutureWarning: Passing (type, 1) or '1type' as a synonym of type is deprecated; in a future version of numpy, it will be understood as (type, (1,)) / '(1,)type'.\n",
      "  _np_qint32 = np.dtype([(\"qint32\", np.int32, 1)])\n",
      "D:\\anaconda3\\lib\\site-packages\\tensorboard\\compat\\tensorflow_stub\\dtypes.py:550: FutureWarning: Passing (type, 1) or '1type' as a synonym of type is deprecated; in a future version of numpy, it will be understood as (type, (1,)) / '(1,)type'.\n",
      "  np_resource = np.dtype([(\"resource\", np.ubyte, 1)])\n"
     ]
    }
   ],
   "source": [
    "from tensorflow.keras.models import Sequential"
   ]
  },
  {
   "cell_type": "code",
   "execution_count": 65,
   "metadata": {},
   "outputs": [],
   "source": [
    "from tensorflow.keras.layers import Dense"
   ]
  },
  {
   "cell_type": "code",
   "execution_count": 66,
   "metadata": {},
   "outputs": [],
   "source": [
    "from tensorflow.keras.callbacks import EarlyStopping"
   ]
  },
  {
   "cell_type": "code",
   "execution_count": 67,
   "metadata": {},
   "outputs": [],
   "source": [
    "from tensorflow.keras.layers import Dropout"
   ]
  },
  {
   "cell_type": "code",
   "execution_count": 68,
   "metadata": {},
   "outputs": [],
   "source": [
    "early_stop = EarlyStopping(monitor='val_loss',mode='min',verbose=1,patience=25)"
   ]
  },
  {
   "cell_type": "code",
   "execution_count": 69,
   "metadata": {},
   "outputs": [
    {
     "name": "stdout",
     "output_type": "stream",
     "text": [
      "WARNING:tensorflow:From D:\\anaconda3\\lib\\site-packages\\tensorflow\\python\\ops\\init_ops.py:1251: calling VarianceScaling.__init__ (from tensorflow.python.ops.init_ops) with dtype is deprecated and will be removed in a future version.\n",
      "Instructions for updating:\n",
      "Call initializer instance with the dtype argument instead of passing it to the constructor\n"
     ]
    }
   ],
   "source": [
    "model = Sequential()\n",
    "\n",
    "model.add(Dense(30,activation='relu'))\n",
    "model.add(Dropout(0.3))\n",
    "\n",
    "model.add(Dense(15,activation='relu'))\n",
    "model.add(Dropout(0.3))\n",
    "\n",
    "model.add(Dense(1,activation='relu'))\n",
    "model.compile(loss = 'mse',optimizer='adam')"
   ]
  },
  {
   "cell_type": "code",
   "execution_count": 70,
   "metadata": {},
   "outputs": [
    {
     "name": "stdout",
     "output_type": "stream",
     "text": [
      "Train on 1736 samples, validate on 745 samples\n",
      "Epoch 1/600\n",
      "1736/1736 [==============================] - 3s 2ms/sample - loss: 2.3426 - val_loss: 0.8411\n",
      "Epoch 2/600\n",
      "1736/1736 [==============================] - 0s 99us/sample - loss: 0.7898 - val_loss: 0.4376\n",
      "Epoch 3/600\n",
      "1736/1736 [==============================] - 0s 94us/sample - loss: 0.7498 - val_loss: 0.4222\n",
      "Epoch 4/600\n",
      "1736/1736 [==============================] - 0s 107us/sample - loss: 0.6734 - val_loss: 0.4063\n",
      "Epoch 5/600\n",
      "1736/1736 [==============================] - 0s 102us/sample - loss: 0.6303 - val_loss: 0.4092\n",
      "Epoch 6/600\n",
      "1736/1736 [==============================] - 0s 103us/sample - loss: 0.6130 - val_loss: 0.4035\n",
      "Epoch 7/600\n",
      "1736/1736 [==============================] - 0s 98us/sample - loss: 0.5775 - val_loss: 0.3962\n",
      "Epoch 8/600\n",
      "1736/1736 [==============================] - 0s 116us/sample - loss: 0.5749 - val_loss: 0.4002\n",
      "Epoch 9/600\n",
      "1736/1736 [==============================] - 0s 111us/sample - loss: 0.5479 - val_loss: 0.3919\n",
      "Epoch 10/600\n",
      "1736/1736 [==============================] - 0s 113us/sample - loss: 0.5382 - val_loss: 0.3800\n",
      "Epoch 11/600\n",
      "1736/1736 [==============================] - 0s 123us/sample - loss: 0.5690 - val_loss: 0.3852\n",
      "Epoch 12/600\n",
      "1736/1736 [==============================] - 0s 113us/sample - loss: 0.5187 - val_loss: 0.3803\n",
      "Epoch 13/600\n",
      "1736/1736 [==============================] - 0s 106us/sample - loss: 0.5181 - val_loss: 0.3702\n",
      "Epoch 14/600\n",
      "1736/1736 [==============================] - 0s 105us/sample - loss: 0.5144 - val_loss: 0.3655\n",
      "Epoch 15/600\n",
      "1736/1736 [==============================] - 0s 109us/sample - loss: 0.5160 - val_loss: 0.3678\n",
      "Epoch 16/600\n",
      "1736/1736 [==============================] - 0s 103us/sample - loss: 0.5152 - val_loss: 0.3629\n",
      "Epoch 17/600\n",
      "1736/1736 [==============================] - 0s 94us/sample - loss: 0.5033 - val_loss: 0.3652\n",
      "Epoch 18/600\n",
      "1736/1736 [==============================] - 0s 116us/sample - loss: 0.5088 - val_loss: 0.3627\n",
      "Epoch 19/600\n",
      "1736/1736 [==============================] - 0s 99us/sample - loss: 0.4803 - val_loss: 0.3527\n",
      "Epoch 20/600\n",
      "1736/1736 [==============================] - 0s 102us/sample - loss: 0.4843 - val_loss: 0.3612\n",
      "Epoch 21/600\n",
      "1736/1736 [==============================] - 0s 99us/sample - loss: 0.4817 - val_loss: 0.3414\n",
      "Epoch 22/600\n",
      "1736/1736 [==============================] - 0s 102us/sample - loss: 0.4682 - val_loss: 0.3419\n",
      "Epoch 23/600\n",
      "1736/1736 [==============================] - 0s 96us/sample - loss: 0.4634 - val_loss: 0.3424\n",
      "Epoch 24/600\n",
      "1736/1736 [==============================] - 0s 98us/sample - loss: 0.4694 - val_loss: 0.3426\n",
      "Epoch 25/600\n",
      "1736/1736 [==============================] - 0s 100us/sample - loss: 0.4721 - val_loss: 0.3327\n",
      "Epoch 26/600\n",
      "1736/1736 [==============================] - 0s 106us/sample - loss: 0.4416 - val_loss: 0.3305\n",
      "Epoch 27/600\n",
      "1736/1736 [==============================] - 0s 104us/sample - loss: 0.4438 - val_loss: 0.3302\n",
      "Epoch 28/600\n",
      "1736/1736 [==============================] - 0s 102us/sample - loss: 0.4361 - val_loss: 0.3283\n",
      "Epoch 29/600\n",
      "1736/1736 [==============================] - 0s 97us/sample - loss: 0.4548 - val_loss: 0.3258\n",
      "Epoch 30/600\n",
      "1736/1736 [==============================] - 0s 96us/sample - loss: 0.4259 - val_loss: 0.3246\n",
      "Epoch 31/600\n",
      "1736/1736 [==============================] - 0s 116us/sample - loss: 0.4242 - val_loss: 0.3223\n",
      "Epoch 32/600\n",
      "1736/1736 [==============================] - 0s 107us/sample - loss: 0.4184 - val_loss: 0.3257\n",
      "Epoch 33/600\n",
      "1736/1736 [==============================] - 0s 117us/sample - loss: 0.4291 - val_loss: 0.3228\n",
      "Epoch 34/600\n",
      "1736/1736 [==============================] - 0s 107us/sample - loss: 0.4191 - val_loss: 0.3262\n",
      "Epoch 35/600\n",
      "1736/1736 [==============================] - 0s 118us/sample - loss: 0.4227 - val_loss: 0.3246\n",
      "Epoch 36/600\n",
      "1736/1736 [==============================] - 0s 119us/sample - loss: 0.4205 - val_loss: 0.3201\n",
      "Epoch 37/600\n",
      "1736/1736 [==============================] - 0s 102us/sample - loss: 0.4153 - val_loss: 0.3171\n",
      "Epoch 38/600\n",
      "1736/1736 [==============================] - 0s 111us/sample - loss: 0.4055 - val_loss: 0.3163\n",
      "Epoch 39/600\n",
      "1736/1736 [==============================] - 0s 108us/sample - loss: 0.4060 - val_loss: 0.3180\n",
      "Epoch 40/600\n",
      "1736/1736 [==============================] - 0s 107us/sample - loss: 0.4071 - val_loss: 0.3168\n",
      "Epoch 41/600\n",
      "1736/1736 [==============================] - 0s 103us/sample - loss: 0.4023 - val_loss: 0.3167\n",
      "Epoch 42/600\n",
      "1736/1736 [==============================] - 0s 116us/sample - loss: 0.3937 - val_loss: 0.3137\n",
      "Epoch 43/600\n",
      "1736/1736 [==============================] - 0s 123us/sample - loss: 0.3896 - val_loss: 0.3136\n",
      "Epoch 44/600\n",
      "1736/1736 [==============================] - 0s 105us/sample - loss: 0.3954 - val_loss: 0.3136\n",
      "Epoch 45/600\n",
      "1736/1736 [==============================] - 0s 100us/sample - loss: 0.4206 - val_loss: 0.3163\n",
      "Epoch 46/600\n",
      "1736/1736 [==============================] - 0s 105us/sample - loss: 0.3902 - val_loss: 0.3139\n",
      "Epoch 47/600\n",
      "1736/1736 [==============================] - 0s 104us/sample - loss: 0.4005 - val_loss: 0.3119\n",
      "Epoch 48/600\n",
      "1736/1736 [==============================] - 0s 99us/sample - loss: 0.3875 - val_loss: 0.3116\n",
      "Epoch 49/600\n",
      "1736/1736 [==============================] - 0s 97us/sample - loss: 0.3942 - val_loss: 0.3130\n",
      "Epoch 50/600\n",
      "1736/1736 [==============================] - 0s 101us/sample - loss: 0.3893 - val_loss: 0.3117\n",
      "Epoch 51/600\n",
      "1736/1736 [==============================] - 0s 100us/sample - loss: 0.4029 - val_loss: 0.3142\n",
      "Epoch 52/600\n",
      "1736/1736 [==============================] - 0s 101us/sample - loss: 0.3911 - val_loss: 0.3139\n",
      "Epoch 53/600\n",
      "1736/1736 [==============================] - 0s 105us/sample - loss: 0.3970 - val_loss: 0.3116\n",
      "Epoch 54/600\n",
      "1736/1736 [==============================] - 0s 98us/sample - loss: 0.3861 - val_loss: 0.3106\n",
      "Epoch 55/600\n",
      "1736/1736 [==============================] - 0s 105us/sample - loss: 0.3919 - val_loss: 0.3107\n",
      "Epoch 56/600\n",
      "1736/1736 [==============================] - 0s 100us/sample - loss: 0.3863 - val_loss: 0.3109\n",
      "Epoch 57/600\n",
      "1736/1736 [==============================] - 0s 100us/sample - loss: 0.3724 - val_loss: 0.3126\n",
      "Epoch 58/600\n",
      "1736/1736 [==============================] - 0s 96us/sample - loss: 0.3820 - val_loss: 0.3115\n",
      "Epoch 59/600\n",
      "1736/1736 [==============================] - 0s 94us/sample - loss: 0.3844 - val_loss: 0.3098\n",
      "Epoch 60/600\n",
      "1736/1736 [==============================] - 0s 92us/sample - loss: 0.3731 - val_loss: 0.3116\n",
      "Epoch 61/600\n",
      "1736/1736 [==============================] - 0s 94us/sample - loss: 0.3848 - val_loss: 0.3121\n",
      "Epoch 62/600\n",
      "1736/1736 [==============================] - 0s 88us/sample - loss: 0.3688 - val_loss: 0.3097\n",
      "Epoch 63/600\n",
      "1736/1736 [==============================] - 0s 91us/sample - loss: 0.3714 - val_loss: 0.3144\n",
      "Epoch 64/600\n",
      "1736/1736 [==============================] - 0s 99us/sample - loss: 0.3801 - val_loss: 0.3121\n",
      "Epoch 65/600\n",
      "1736/1736 [==============================] - 0s 98us/sample - loss: 0.3718 - val_loss: 0.3092\n",
      "Epoch 66/600\n",
      "1736/1736 [==============================] - 0s 96us/sample - loss: 0.3742 - val_loss: 0.3097\n",
      "Epoch 67/600\n",
      "1736/1736 [==============================] - 0s 96us/sample - loss: 0.3636 - val_loss: 0.3152\n",
      "Epoch 68/600\n",
      "1736/1736 [==============================] - 0s 91us/sample - loss: 0.3786 - val_loss: 0.3167\n",
      "Epoch 69/600\n",
      "1736/1736 [==============================] - 0s 94us/sample - loss: 0.3712 - val_loss: 0.3117\n",
      "Epoch 70/600\n",
      "1736/1736 [==============================] - 0s 101us/sample - loss: 0.3773 - val_loss: 0.3114\n",
      "Epoch 71/600\n",
      "1736/1736 [==============================] - 0s 97us/sample - loss: 0.3605 - val_loss: 0.3116\n",
      "Epoch 72/600\n",
      "1736/1736 [==============================] - 0s 124us/sample - loss: 0.3617 - val_loss: 0.3131\n",
      "Epoch 73/600\n",
      "1736/1736 [==============================] - 0s 117us/sample - loss: 0.3752 - val_loss: 0.3091\n",
      "Epoch 74/600\n",
      "1736/1736 [==============================] - 0s 101us/sample - loss: 0.3598 - val_loss: 0.3090\n",
      "Epoch 75/600\n",
      "1736/1736 [==============================] - 0s 102us/sample - loss: 0.3625 - val_loss: 0.3130\n",
      "Epoch 76/600\n",
      "1736/1736 [==============================] - 0s 99us/sample - loss: 0.3675 - val_loss: 0.3084\n"
     ]
    },
    {
     "name": "stdout",
     "output_type": "stream",
     "text": [
      "Epoch 77/600\n",
      "1736/1736 [==============================] - 0s 96us/sample - loss: 0.3688 - val_loss: 0.3090\n",
      "Epoch 78/600\n",
      "1736/1736 [==============================] - 0s 96us/sample - loss: 0.3597 - val_loss: 0.3093\n",
      "Epoch 79/600\n",
      "1736/1736 [==============================] - 0s 96us/sample - loss: 0.3616 - val_loss: 0.3084\n",
      "Epoch 80/600\n",
      "1736/1736 [==============================] - 0s 93us/sample - loss: 0.3660 - val_loss: 0.3087\n",
      "Epoch 81/600\n",
      "1736/1736 [==============================] - 0s 96us/sample - loss: 0.3590 - val_loss: 0.3089\n",
      "Epoch 82/600\n",
      "1736/1736 [==============================] - 0s 100us/sample - loss: 0.3510 - val_loss: 0.3080\n",
      "Epoch 83/600\n",
      "1736/1736 [==============================] - 0s 99us/sample - loss: 0.3623 - val_loss: 0.3104\n",
      "Epoch 84/600\n",
      "1736/1736 [==============================] - 0s 93us/sample - loss: 0.3590 - val_loss: 0.3089\n",
      "Epoch 85/600\n",
      "1736/1736 [==============================] - 0s 92us/sample - loss: 0.3587 - val_loss: 0.3094\n",
      "Epoch 86/600\n",
      "1736/1736 [==============================] - 0s 96us/sample - loss: 0.3595 - val_loss: 0.3077\n",
      "Epoch 87/600\n",
      "1736/1736 [==============================] - 0s 95us/sample - loss: 0.3644 - val_loss: 0.3111\n",
      "Epoch 88/600\n",
      "1736/1736 [==============================] - 0s 97us/sample - loss: 0.3553 - val_loss: 0.3095\n",
      "Epoch 89/600\n",
      "1736/1736 [==============================] - 0s 92us/sample - loss: 0.3537 - val_loss: 0.3135\n",
      "Epoch 90/600\n",
      "1736/1736 [==============================] - 0s 96us/sample - loss: 0.3525 - val_loss: 0.3088\n",
      "Epoch 91/600\n",
      "1736/1736 [==============================] - 0s 95us/sample - loss: 0.3493 - val_loss: 0.3078\n",
      "Epoch 92/600\n",
      "1736/1736 [==============================] - 0s 99us/sample - loss: 0.3594 - val_loss: 0.3080\n",
      "Epoch 93/600\n",
      "1736/1736 [==============================] - 0s 94us/sample - loss: 0.3510 - val_loss: 0.3083\n",
      "Epoch 94/600\n",
      "1736/1736 [==============================] - 0s 98us/sample - loss: 0.3454 - val_loss: 0.3074\n",
      "Epoch 95/600\n",
      "1736/1736 [==============================] - 0s 96us/sample - loss: 0.3593 - val_loss: 0.3087\n",
      "Epoch 96/600\n",
      "1736/1736 [==============================] - 0s 94us/sample - loss: 0.3471 - val_loss: 0.3102\n",
      "Epoch 97/600\n",
      "1736/1736 [==============================] - 0s 97us/sample - loss: 0.3513 - val_loss: 0.3084\n",
      "Epoch 98/600\n",
      "1736/1736 [==============================] - 0s 98us/sample - loss: 0.3549 - val_loss: 0.3083\n",
      "Epoch 99/600\n",
      "1736/1736 [==============================] - 0s 100us/sample - loss: 0.3461 - val_loss: 0.3084\n",
      "Epoch 100/600\n",
      "1736/1736 [==============================] - 0s 95us/sample - loss: 0.3519 - val_loss: 0.3086\n",
      "Epoch 101/600\n",
      "1736/1736 [==============================] - 0s 97us/sample - loss: 0.3529 - val_loss: 0.3098\n",
      "Epoch 102/600\n",
      "1736/1736 [==============================] - 0s 101us/sample - loss: 0.3507 - val_loss: 0.3081\n",
      "Epoch 103/600\n",
      "1736/1736 [==============================] - 0s 94us/sample - loss: 0.3506 - val_loss: 0.3084\n",
      "Epoch 104/600\n",
      "1736/1736 [==============================] - 0s 93us/sample - loss: 0.3518 - val_loss: 0.3069\n",
      "Epoch 105/600\n",
      "1736/1736 [==============================] - 0s 100us/sample - loss: 0.3457 - val_loss: 0.3076\n",
      "Epoch 106/600\n",
      "1736/1736 [==============================] - 0s 100us/sample - loss: 0.3530 - val_loss: 0.3083\n",
      "Epoch 107/600\n",
      "1736/1736 [==============================] - 0s 96us/sample - loss: 0.3477 - val_loss: 0.3077\n",
      "Epoch 108/600\n",
      "1736/1736 [==============================] - 0s 96us/sample - loss: 0.3517 - val_loss: 0.3088\n",
      "Epoch 109/600\n",
      "1736/1736 [==============================] - 0s 95us/sample - loss: 0.3528 - val_loss: 0.3070\n",
      "Epoch 110/600\n",
      "1736/1736 [==============================] - 0s 95us/sample - loss: 0.3430 - val_loss: 0.3077\n",
      "Epoch 111/600\n",
      "1736/1736 [==============================] - 0s 96us/sample - loss: 0.3423 - val_loss: 0.3077\n",
      "Epoch 112/600\n",
      "1736/1736 [==============================] - 0s 94us/sample - loss: 0.3430 - val_loss: 0.3087\n",
      "Epoch 113/600\n",
      "1736/1736 [==============================] - 0s 94us/sample - loss: 0.3476 - val_loss: 0.3108\n",
      "Epoch 114/600\n",
      "1736/1736 [==============================] - 0s 94us/sample - loss: 0.3420 - val_loss: 0.3073\n",
      "Epoch 115/600\n",
      "1736/1736 [==============================] - 0s 95us/sample - loss: 0.3423 - val_loss: 0.3072\n",
      "Epoch 116/600\n",
      "1736/1736 [==============================] - 0s 96us/sample - loss: 0.3507 - val_loss: 0.3071\n",
      "Epoch 117/600\n",
      "1736/1736 [==============================] - 0s 91us/sample - loss: 0.3481 - val_loss: 0.3076\n",
      "Epoch 118/600\n",
      "1736/1736 [==============================] - 0s 94us/sample - loss: 0.3391 - val_loss: 0.3072\n",
      "Epoch 119/600\n",
      "1736/1736 [==============================] - 0s 94us/sample - loss: 0.3388 - val_loss: 0.3073\n",
      "Epoch 120/600\n",
      "1736/1736 [==============================] - 0s 96us/sample - loss: 0.3450 - val_loss: 0.3072\n",
      "Epoch 121/600\n",
      "1736/1736 [==============================] - 0s 101us/sample - loss: 0.3403 - val_loss: 0.3160\n",
      "Epoch 122/600\n",
      "1736/1736 [==============================] - 0s 103us/sample - loss: 0.3437 - val_loss: 0.3073\n",
      "Epoch 123/600\n",
      "1736/1736 [==============================] - 0s 101us/sample - loss: 0.3403 - val_loss: 0.3073\n",
      "Epoch 124/600\n",
      "1736/1736 [==============================] - 0s 105us/sample - loss: 0.3424 - val_loss: 0.3071\n",
      "Epoch 125/600\n",
      "1736/1736 [==============================] - 0s 99us/sample - loss: 0.3403 - val_loss: 0.3070\n",
      "Epoch 126/600\n",
      "1736/1736 [==============================] - 0s 107us/sample - loss: 0.3375 - val_loss: 0.3076\n",
      "Epoch 127/600\n",
      "1736/1736 [==============================] - 0s 107us/sample - loss: 0.3434 - val_loss: 0.3071\n",
      "Epoch 128/600\n",
      "1736/1736 [==============================] - 0s 117us/sample - loss: 0.3406 - val_loss: 0.3069\n",
      "Epoch 129/600\n",
      "1736/1736 [==============================] - 0s 111us/sample - loss: 0.3426 - val_loss: 0.3066\n",
      "Epoch 130/600\n",
      "1736/1736 [==============================] - 0s 114us/sample - loss: 0.3387 - val_loss: 0.3075\n",
      "Epoch 131/600\n",
      "1736/1736 [==============================] - 0s 100us/sample - loss: 0.3396 - val_loss: 0.3061\n",
      "Epoch 132/600\n",
      "1736/1736 [==============================] - 0s 111us/sample - loss: 0.3357 - val_loss: 0.3122\n",
      "Epoch 133/600\n",
      "1736/1736 [==============================] - 0s 109us/sample - loss: 0.3436 - val_loss: 0.3065\n",
      "Epoch 134/600\n",
      "1736/1736 [==============================] - 0s 119us/sample - loss: 0.3412 - val_loss: 0.3065\n",
      "Epoch 135/600\n",
      "1736/1736 [==============================] - 0s 101us/sample - loss: 0.3407 - val_loss: 0.3083\n",
      "Epoch 136/600\n",
      "1736/1736 [==============================] - 0s 103us/sample - loss: 0.3426 - val_loss: 0.3068\n",
      "Epoch 137/600\n",
      "1736/1736 [==============================] - 0s 101us/sample - loss: 0.3340 - val_loss: 0.3093\n",
      "Epoch 138/600\n",
      "1736/1736 [==============================] - 0s 90us/sample - loss: 0.3419 - val_loss: 0.3068\n",
      "Epoch 139/600\n",
      "1736/1736 [==============================] - 0s 103us/sample - loss: 0.3412 - val_loss: 0.3064\n",
      "Epoch 140/600\n",
      "1736/1736 [==============================] - 0s 100us/sample - loss: 0.3391 - val_loss: 0.3087\n",
      "Epoch 141/600\n",
      "1736/1736 [==============================] - 0s 99us/sample - loss: 0.3406 - val_loss: 0.3065\n",
      "Epoch 142/600\n",
      "1736/1736 [==============================] - 0s 104us/sample - loss: 0.3477 - val_loss: 0.3070\n",
      "Epoch 143/600\n",
      "1736/1736 [==============================] - 0s 102us/sample - loss: 0.3387 - val_loss: 0.3083\n",
      "Epoch 144/600\n",
      "1736/1736 [==============================] - 0s 110us/sample - loss: 0.3416 - val_loss: 0.3094\n",
      "Epoch 145/600\n",
      "1736/1736 [==============================] - 0s 116us/sample - loss: 0.3405 - val_loss: 0.3064\n",
      "Epoch 146/600\n",
      "1736/1736 [==============================] - 0s 104us/sample - loss: 0.3379 - val_loss: 0.3080\n",
      "Epoch 147/600\n",
      "1736/1736 [==============================] - 0s 122us/sample - loss: 0.3423 - val_loss: 0.3067\n",
      "Epoch 148/600\n",
      "1736/1736 [==============================] - 0s 106us/sample - loss: 0.3364 - val_loss: 0.3057\n",
      "Epoch 149/600\n",
      "1736/1736 [==============================] - 0s 110us/sample - loss: 0.3317 - val_loss: 0.3065\n",
      "Epoch 150/600\n",
      "1736/1736 [==============================] - 0s 115us/sample - loss: 0.3377 - val_loss: 0.3061\n",
      "Epoch 151/600\n",
      "1736/1736 [==============================] - 0s 113us/sample - loss: 0.3397 - val_loss: 0.3075\n",
      "Epoch 152/600\n",
      "1736/1736 [==============================] - 0s 106us/sample - loss: 0.3367 - val_loss: 0.3101\n"
     ]
    },
    {
     "name": "stdout",
     "output_type": "stream",
     "text": [
      "Epoch 153/600\n",
      "1736/1736 [==============================] - 0s 115us/sample - loss: 0.3398 - val_loss: 0.3065\n",
      "Epoch 154/600\n",
      "1736/1736 [==============================] - 0s 120us/sample - loss: 0.3341 - val_loss: 0.3064\n",
      "Epoch 155/600\n",
      "1736/1736 [==============================] - 0s 110us/sample - loss: 0.3362 - val_loss: 0.3095\n",
      "Epoch 156/600\n",
      "1736/1736 [==============================] - 0s 108us/sample - loss: 0.3323 - val_loss: 0.3061\n",
      "Epoch 157/600\n",
      "1736/1736 [==============================] - 0s 113us/sample - loss: 0.3417 - val_loss: 0.3062\n",
      "Epoch 158/600\n",
      "1736/1736 [==============================] - 0s 109us/sample - loss: 0.3319 - val_loss: 0.3058\n",
      "Epoch 159/600\n",
      "1736/1736 [==============================] - 0s 111us/sample - loss: 0.3364 - val_loss: 0.3062\n",
      "Epoch 160/600\n",
      "1736/1736 [==============================] - 0s 106us/sample - loss: 0.3335 - val_loss: 0.3061\n",
      "Epoch 161/600\n",
      "1736/1736 [==============================] - 0s 101us/sample - loss: 0.3323 - val_loss: 0.3068\n",
      "Epoch 162/600\n",
      "1736/1736 [==============================] - 0s 99us/sample - loss: 0.3369 - val_loss: 0.3080\n",
      "Epoch 163/600\n",
      "1736/1736 [==============================] - 0s 97us/sample - loss: 0.3382 - val_loss: 0.3073\n",
      "Epoch 164/600\n",
      "1736/1736 [==============================] - 0s 98us/sample - loss: 0.3339 - val_loss: 0.3069\n",
      "Epoch 165/600\n",
      "1736/1736 [==============================] - 0s 96us/sample - loss: 0.3340 - val_loss: 0.3052\n",
      "Epoch 166/600\n",
      "1736/1736 [==============================] - 0s 98us/sample - loss: 0.3345 - val_loss: 0.3055\n",
      "Epoch 167/600\n",
      "1736/1736 [==============================] - 0s 99us/sample - loss: 0.3400 - val_loss: 0.3069\n",
      "Epoch 168/600\n",
      "1736/1736 [==============================] - 0s 96us/sample - loss: 0.3377 - val_loss: 0.3062\n",
      "Epoch 169/600\n",
      "1736/1736 [==============================] - 0s 94us/sample - loss: 0.3324 - val_loss: 0.3080\n",
      "Epoch 170/600\n",
      "1736/1736 [==============================] - 0s 99us/sample - loss: 0.3402 - val_loss: 0.3059\n",
      "Epoch 171/600\n",
      "1736/1736 [==============================] - 0s 100us/sample - loss: 0.3359 - val_loss: 0.3069\n",
      "Epoch 172/600\n",
      "1736/1736 [==============================] - 0s 98us/sample - loss: 0.3335 - val_loss: 0.3061\n",
      "Epoch 173/600\n",
      "1736/1736 [==============================] - 0s 96us/sample - loss: 0.3372 - val_loss: 0.3061\n",
      "Epoch 174/600\n",
      "1736/1736 [==============================] - 0s 92us/sample - loss: 0.3370 - val_loss: 0.3060\n",
      "Epoch 175/600\n",
      "1736/1736 [==============================] - 0s 92us/sample - loss: 0.3333 - val_loss: 0.3061\n",
      "Epoch 176/600\n",
      "1736/1736 [==============================] - 0s 99us/sample - loss: 0.3412 - val_loss: 0.3140\n",
      "Epoch 177/600\n",
      "1736/1736 [==============================] - 0s 95us/sample - loss: 0.3343 - val_loss: 0.3074\n",
      "Epoch 178/600\n",
      "1736/1736 [==============================] - 0s 96us/sample - loss: 0.3393 - val_loss: 0.3060\n",
      "Epoch 179/600\n",
      "1736/1736 [==============================] - 0s 94us/sample - loss: 0.3361 - val_loss: 0.3065\n",
      "Epoch 180/600\n",
      "1736/1736 [==============================] - 0s 97us/sample - loss: 0.3337 - val_loss: 0.3068\n",
      "Epoch 181/600\n",
      "1736/1736 [==============================] - 0s 96us/sample - loss: 0.3323 - val_loss: 0.3069\n",
      "Epoch 182/600\n",
      "1736/1736 [==============================] - 0s 94us/sample - loss: 0.3376 - val_loss: 0.3061\n",
      "Epoch 183/600\n",
      "1736/1736 [==============================] - 0s 94us/sample - loss: 0.3327 - val_loss: 0.3084\n",
      "Epoch 184/600\n",
      "1736/1736 [==============================] - 0s 94us/sample - loss: 0.3334 - val_loss: 0.3081\n",
      "Epoch 185/600\n",
      "1736/1736 [==============================] - 0s 97us/sample - loss: 0.3359 - val_loss: 0.3063\n",
      "Epoch 186/600\n",
      "1736/1736 [==============================] - 0s 98us/sample - loss: 0.3271 - val_loss: 0.3058\n",
      "Epoch 187/600\n",
      "1736/1736 [==============================] - 0s 96us/sample - loss: 0.3342 - val_loss: 0.3051\n",
      "Epoch 188/600\n",
      "1736/1736 [==============================] - 0s 94us/sample - loss: 0.3345 - val_loss: 0.3061\n",
      "Epoch 189/600\n",
      "1736/1736 [==============================] - 0s 98us/sample - loss: 0.3369 - val_loss: 0.3062\n",
      "Epoch 190/600\n",
      "1736/1736 [==============================] - 0s 97us/sample - loss: 0.3359 - val_loss: 0.3058\n",
      "Epoch 191/600\n",
      "1736/1736 [==============================] - 0s 96us/sample - loss: 0.3317 - val_loss: 0.3117\n",
      "Epoch 192/600\n",
      "1736/1736 [==============================] - 0s 100us/sample - loss: 0.3357 - val_loss: 0.3083\n",
      "Epoch 193/600\n",
      "1736/1736 [==============================] - 0s 92us/sample - loss: 0.3311 - val_loss: 0.3109\n",
      "Epoch 194/600\n",
      "1736/1736 [==============================] - 0s 94us/sample - loss: 0.3347 - val_loss: 0.3116\n",
      "Epoch 195/600\n",
      "1736/1736 [==============================] - 0s 93us/sample - loss: 0.3361 - val_loss: 0.3061\n",
      "Epoch 196/600\n",
      "1736/1736 [==============================] - 0s 97us/sample - loss: 0.3339 - val_loss: 0.3053\n",
      "Epoch 197/600\n",
      "1736/1736 [==============================] - 0s 96us/sample - loss: 0.3309 - val_loss: 0.3067\n",
      "Epoch 198/600\n",
      "1736/1736 [==============================] - 0s 96us/sample - loss: 0.3324 - val_loss: 0.3059\n",
      "Epoch 199/600\n",
      "1736/1736 [==============================] - 0s 94us/sample - loss: 0.3379 - val_loss: 0.3056\n",
      "Epoch 200/600\n",
      "1736/1736 [==============================] - 0s 96us/sample - loss: 0.3289 - val_loss: 0.3054\n",
      "Epoch 201/600\n",
      "1736/1736 [==============================] - 0s 93us/sample - loss: 0.3340 - val_loss: 0.3066\n",
      "Epoch 202/600\n",
      "1736/1736 [==============================] - 0s 94us/sample - loss: 0.3417 - val_loss: 0.3060\n",
      "Epoch 203/600\n",
      "1736/1736 [==============================] - 0s 93us/sample - loss: 0.3320 - val_loss: 0.3088\n",
      "Epoch 204/600\n",
      "1736/1736 [==============================] - 0s 97us/sample - loss: 0.3339 - val_loss: 0.3060\n",
      "Epoch 205/600\n",
      "1736/1736 [==============================] - 0s 95us/sample - loss: 0.3308 - val_loss: 0.3055\n",
      "Epoch 206/600\n",
      "1736/1736 [==============================] - 0s 96us/sample - loss: 0.3353 - val_loss: 0.3052\n",
      "Epoch 207/600\n",
      "1736/1736 [==============================] - 0s 93us/sample - loss: 0.3380 - val_loss: 0.3062\n",
      "Epoch 208/600\n",
      "1736/1736 [==============================] - 0s 99us/sample - loss: 0.3354 - val_loss: 0.3069\n",
      "Epoch 209/600\n",
      "1736/1736 [==============================] - 0s 94us/sample - loss: 0.3365 - val_loss: 0.3088\n",
      "Epoch 210/600\n",
      "1736/1736 [==============================] - 0s 101us/sample - loss: 0.3350 - val_loss: 0.3065\n",
      "Epoch 211/600\n",
      "1736/1736 [==============================] - 0s 111us/sample - loss: 0.3345 - val_loss: 0.3063\n",
      "Epoch 212/600\n",
      "1736/1736 [==============================] - 0s 110us/sample - loss: 0.3353 - val_loss: 0.3062\n",
      "Epoch 00212: early stopping\n"
     ]
    },
    {
     "data": {
      "text/plain": [
       "<tensorflow.python.keras.callbacks.History at 0x2175a49e588>"
      ]
     },
     "execution_count": 70,
     "metadata": {},
     "output_type": "execute_result"
    }
   ],
   "source": [
    "model.fit(x=X_train,y=y_train,epochs=600,validation_data=(X_test,y_test),callbacks=[early_stop])"
   ]
  },
  {
   "cell_type": "code",
   "execution_count": 71,
   "metadata": {},
   "outputs": [],
   "source": [
    "loss = pd.DataFrame(model.history.history)"
   ]
  },
  {
   "cell_type": "code",
   "execution_count": 72,
   "metadata": {},
   "outputs": [
    {
     "data": {
      "text/plain": [
       "<matplotlib.axes._subplots.AxesSubplot at 0x2175ab584c8>"
      ]
     },
     "execution_count": 72,
     "metadata": {},
     "output_type": "execute_result"
    },
    {
     "data": {
      "image/png": "[encoded data removed]",
      "text/plain": [
       "<Figure size 432x288 with 1 Axes>"
      ]
     },
     "metadata": {
      "needs_background": "light"
     },
     "output_type": "display_data"
    }
   ],
   "source": [
    "loss.plot()"
   ]
  },
  {
   "cell_type": "code",
   "execution_count": 73,
   "metadata": {},
   "outputs": [],
   "source": [
    "predictions = model.predict_classes(X_test)"
   ]
  },
  {
   "cell_type": "code",
   "execution_count": 74,
   "metadata": {},
   "outputs": [
    {
     "name": "stdout",
     "output_type": "stream",
     "text": [
      "0.8705771923047261\n"
     ]
    }
   ],
   "source": [
    "print(mean_absolute_error(y_test,predictions))"
   ]
  },
  {
   "cell_type": "code",
   "execution_count": 75,
   "metadata": {},
   "outputs": [
    {
     "name": "stdout",
     "output_type": "stream",
     "text": [
      "-1.9165787855069847\n"
     ]
    }
   ],
   "source": [
    "print(r2_score(y_test,predictions))"
   ]
  },
  {
   "cell_type": "code",
   "execution_count": 76,
   "metadata": {},
   "outputs": [
    {
     "data": {
      "text/plain": [
       "1.07238753535663"
      ]
     },
     "execution_count": 76,
     "metadata": {},
     "output_type": "execute_result"
    }
   ],
   "source": [
    "np.sqrt(mean_squared_error(y_test,predictions))"
   ]
  },
  {
   "cell_type": "markdown",
   "metadata": {},
   "source": [
    "# Random Forest Regressor is giving us the best results"
   ]
  },
  {
   "cell_type": "code",
   "execution_count": null,
   "metadata": {},
   "outputs": [],
   "source": []
  }
 ],
 "metadata": {
  "kernelspec": {
   "display_name": "Python 3",
   "language": "python",
   "name": "python3"
  },
  "language_info": {
   "codemirror_mode": {
    "name": "ipython",
    "version": 3
   },
   "file_extension": ".py",
   "mimetype": "text/x-python",
   "name": "python",
   "nbconvert_exporter": "python",
   "pygments_lexer": "ipython3",
   "version": "3.7.6"
  }
 },
 "nbformat": 4,
 "nbformat_minor": 4
}
